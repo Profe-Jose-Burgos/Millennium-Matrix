{
  "cells": [
    {
      "cell_type": "code",
      "execution_count": null,
      "metadata": {
        "colab": {
          "base_uri": "https://localhost:8080/"
        },
        "id": "SaprTWsTamMC",
        "outputId": "2fb965e7-0abd-40fe-b724-96ab076d50ff"
      },
      "outputs": [
        {
          "output_type": "stream",
          "name": "stdout",
          "text": [
            "Looking in indexes: https://pypi.org/simple, https://us-python.pkg.dev/colab-wheels/public/simple/\n",
            "Requirement already satisfied: pyTelegramBotAPI in /usr/local/lib/python3.8/dist-packages (4.9.0)\n",
            "Requirement already satisfied: requests in /usr/local/lib/python3.8/dist-packages (from pyTelegramBotAPI) (2.25.1)\n",
            "Requirement already satisfied: certifi>=2017.4.17 in /usr/local/lib/python3.8/dist-packages (from requests->pyTelegramBotAPI) (2022.12.7)\n",
            "Requirement already satisfied: idna<3,>=2.5 in /usr/local/lib/python3.8/dist-packages (from requests->pyTelegramBotAPI) (2.10)\n",
            "Requirement already satisfied: urllib3<1.27,>=1.21.1 in /usr/local/lib/python3.8/dist-packages (from requests->pyTelegramBotAPI) (1.24.3)\n",
            "Requirement already satisfied: chardet<5,>=3.0.2 in /usr/local/lib/python3.8/dist-packages (from requests->pyTelegramBotAPI) (4.0.0)\n"
          ]
        }
      ],
      "source": [
        "!pip install pyTelegramBotAPI"
      ]
    },
    {
      "cell_type": "code",
      "execution_count": null,
      "metadata": {
        "id": "2A67La-QanaS"
      },
      "outputs": [],
      "source": [
        "import telebot"
      ]
    },
    {
      "cell_type": "code",
      "execution_count": null,
      "metadata": {
        "id": "4fenUgj-apv7"
      },
      "outputs": [],
      "source": [
        "token = \"5620973682:AAFtNyEVl9GcyivIONmKa9gVQbLz_82bT58\""
      ]
    },
    {
      "cell_type": "code",
      "execution_count": null,
      "metadata": {
        "id": "u6kZmWOVat4C"
      },
      "outputs": [],
      "source": [
        "bot = telebot.TeleBot(token)"
      ]
    },
    {
      "cell_type": "code",
      "execution_count": null,
      "metadata": {
        "id": "TEMn61kOfntT"
      },
      "outputs": [],
      "source": [
        "costo_estandar_por_envio = float(2.75)"
      ]
    },
    {
      "cell_type": "code",
      "execution_count": null,
      "metadata": {
        "id": "2ZjrvNMNlIA0"
      },
      "outputs": [],
      "source": [
        "import pandas as pd"
      ]
    },
    {
      "cell_type": "code",
      "execution_count": null,
      "metadata": {
        "id": "nV-6wev2WL29"
      },
      "outputs": [],
      "source": [
        "productos = pd.read_csv('Inventario.csv', sep=\";\")"
      ]
    },
    {
      "cell_type": "code",
      "execution_count": null,
      "metadata": {
        "id": "QMzA1YzHWQvs"
      },
      "outputs": [],
      "source": [
        "productos"
      ]
    },
    {
      "cell_type": "code",
      "execution_count": null,
      "metadata": {
        "id": "IKzGF_JxbTSr"
      },
      "outputs": [],
      "source": [
        "productosfunc = {\n",
        "    \"\"\"Buenas, ha elegido \"cotización de presupuestos\", que desea consultar?:\n",
        "    [1] \"¿Cual es el costo por envio?\"\n",
        "    [2] \"¿Cuál es el costo por dimensiones de paquete de envío?\"\n",
        "    [3] \"¿Qué metodos de pago tenemos?\"\n",
        "    [4] \"Volver al menú principal.\"\n",
        "    \"\"\"\n",
        "\n",
        "}"
      ]
    },
    {
      "cell_type": "code",
      "execution_count": null,
      "metadata": {
        "id": "0eYal6-Usk__"
      },
      "outputs": [],
      "source": [
        "from telebot.types import InlineKeyboardButton\n",
        "from telebot.types import InlineKeyboardMarkup\n",
        "from telebot.types import ForceReply\n",
        "from telebot.types import ReplyKeyboardMarkup"
      ]
    },
    {
      "cell_type": "code",
      "source": [
        "x = 5\n",
        "while x != 5:\n",
        "    print(x)\n",
        "    x += 1\n",
        "print(\"saliendo\")"
      ],
      "metadata": {
        "colab": {
          "base_uri": "https://localhost:8080/"
        },
        "id": "x1Uj2-NGaTxy",
        "outputId": "9ada5e74-dd90-4b80-f292-8371c6b4bc08"
      },
      "execution_count": 36,
      "outputs": [
        {
          "output_type": "stream",
          "name": "stdout",
          "text": [
            "saliendo\n"
          ]
        }
      ]
    },
    {
      "cell_type": "code",
      "execution_count": null,
      "metadata": {
        "id": "cL80F2CYaYb8"
      },
      "outputs": [],
      "source": [
        "import re\n",
        "import random\n",
        "\n",
        "def get_response(txt):\n",
        "    split_message = re.split(r'\\s|[,:;.?!-_]\\s*f',txt.lower())\n",
        "    response = check_all_message(split_message)\n",
        "    return response\n",
        "\n",
        "def message_probability(user_msn, recognized_word, single_response=False,required_word = []):\n",
        "    message_certainly = 0\n",
        "    has_required_word = True\n",
        "    print(f'user msn {user_msn}')\n",
        "    for word in user_msn:\n",
        "        if word in recognized_word:\n",
        "            message_certainly+=1\n",
        "    percentage = float(message_certainly)/float(len(recognized_word))\n",
        "    for word in required_word:\n",
        "        if word not in user_msn:\n",
        "            has_required_word = False\n",
        "            break\n",
        "    if has_required_word or single_response:\n",
        "        return float(percentage * 100)\n",
        "    else:\n",
        "        return 0\n",
        "\n",
        "\n",
        "def check_all_message(txt):\n",
        "    \n",
        "    highest_prob = {}    \n",
        "    \n",
        "    def response(bot_response,list_of_words,single_response = False,required_words = []):\n",
        "        nonlocal highest_prob\n",
        "        highest_prob[bot_response]= message_probability(txt,list_of_words,single_response,required_words)\n",
        "    \n",
        "    \n",
        "    response(\"Nuestro costo por envío es unicamente de \", costo_estandar_por_envio, \"dentro de latinoamérica, proximamente internacional.\",[\"1\"], required_words=['1'])\n",
        "    response(\"Para dimensiones de un paquete ligero desde las mínimas son de 9 x 14 cm y las máximas 32 x 23 x 2 cm. \\n precio de 1.50 USD, para paquetes de tamaño medio, de 81'5 x 37 centímetros en 3.00 USD. \\n Para paquetes de tamaño grande desde más de 100 × 50 × 50 cm, 5.00 USD.\",[\"2\"], required_words=['2'])\n",
        "    response(\"Aceptamos pagos por VISA, Mastercard, PayPal, Yappy\",[\"3\"], required_words=['3'])\n",
        "    response(\"\",[\"4\"], required_words=['4'])\n",
        "\n",
        "\n",
        "    best_match = max(highest_prob,key=highest_prob.get)\n",
        "    print(highest_prob)\n",
        "    \n",
        "    return unknown() if highest_prob[best_match] < 1 else best_match\n",
        "\n",
        "\n",
        "def unknown():\n",
        "    response = [\"Por favor elija solamente una de las opciones presentes\"]\n",
        "    return response[random.randrange(2)]"
      ]
    },
    {
      "cell_type": "code",
      "execution_count": null,
      "metadata": {
        "id": "qcM2rEVu9ccT"
      },
      "outputs": [],
      "source": [
        "menu_response = productosfunc"
      ]
    },
    {
      "cell_type": "code",
      "execution_count": null,
      "metadata": {
        "id": "cIvmC6mhlOBR"
      },
      "outputs": [],
      "source": [
        "@bot.message_handler(commands=['start',\"help\"])\n",
        "def send_welcome(message):\n",
        "\tbot.reply_to(message, menu_response)"
      ]
    },
    {
      "cell_type": "code",
      "execution_count": null,
      "metadata": {
        "id": "ep8ex17OlQXI"
      },
      "outputs": [],
      "source": [
        "@bot.message_handler(func=lambda m: True)\n",
        "def echo_all(message):\n",
        "  response = get_response(message.text)\n",
        "  bot.reply_to(message, response)\n",
        "  print(f'Mensaje para usuario BOT : {response}')\n",
        "  print(f'mensaje de Usuario: {message.text}')"
      ]
    },
    {
      "cell_type": "code",
      "execution_count": null,
      "metadata": {
        "id": "mQyu31G4OOBO",
        "colab": {
          "base_uri": "https://localhost:8080/"
        },
        "outputId": "4e144140-c494-4c2c-acff-ccbbc9c42f1b"
      },
      "outputs": [
        {
          "output_type": "stream",
          "name": "stderr",
          "text": [
            "2023-01-25 00:15:21,381 (__init__.py:968 MainThread) ERROR - TeleBot: \"Break infinity polling\"\n",
            "ERROR:TeleBot:Break infinity polling\n"
          ]
        }
      ],
      "source": [
        "bot.infinity_polling()"
      ]
    },
    {
      "cell_type": "code",
      "source": [],
      "metadata": {
        "id": "impYOuwyR3Yg"
      },
      "execution_count": null,
      "outputs": []
    }
  ],
  "metadata": {
    "colab": {
      "provenance": []
    },
    "kernelspec": {
      "display_name": "Python 3",
      "name": "python3"
    },
    "language_info": {
      "name": "python"
    }
  },
  "nbformat": 4,
  "nbformat_minor": 0
}