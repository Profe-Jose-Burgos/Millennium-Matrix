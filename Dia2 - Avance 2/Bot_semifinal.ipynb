{
  "nbformat": 4,
  "nbformat_minor": 0,
  "metadata": {
    "colab": {
      "provenance": []
    },
    "kernelspec": {
      "name": "python3",
      "display_name": "Python 3"
    },
    "language_info": {
      "name": "python"
    }
  },
  "cells": [
    {
      "cell_type": "code",
      "execution_count": null,
      "metadata": {
        "colab": {
          "base_uri": "https://localhost:8080/"
        },
        "id": "Sc1GMIP3ntqt",
        "outputId": "4b6004ee-2609-479c-ea54-175f13dcfe27"
      },
      "outputs": [
        {
          "output_type": "stream",
          "name": "stdout",
          "text": [
            "Looking in indexes: https://pypi.org/simple, https://us-python.pkg.dev/colab-wheels/public/simple/\n",
            "Collecting pyTelegramBotAPI\n",
            "  Downloading pyTelegramBotAPI-4.9.0.tar.gz (219 kB)\n",
            "\u001b[2K     \u001b[90m━━━━━━━━━━━━━━━━━━━━━━━━━━━━━━━━━━━━━━━\u001b[0m \u001b[32m219.9/219.9 KB\u001b[0m \u001b[31m7.2 MB/s\u001b[0m eta \u001b[36m0:00:00\u001b[0m\n",
            "\u001b[?25h  Preparing metadata (setup.py) ... \u001b[?25l\u001b[?25hdone\n",
            "Requirement already satisfied: requests in /usr/local/lib/python3.8/dist-packages (from pyTelegramBotAPI) (2.25.1)\n",
            "Requirement already satisfied: urllib3<1.27,>=1.21.1 in /usr/local/lib/python3.8/dist-packages (from requests->pyTelegramBotAPI) (1.24.3)\n",
            "Requirement already satisfied: idna<3,>=2.5 in /usr/local/lib/python3.8/dist-packages (from requests->pyTelegramBotAPI) (2.10)\n",
            "Requirement already satisfied: chardet<5,>=3.0.2 in /usr/local/lib/python3.8/dist-packages (from requests->pyTelegramBotAPI) (4.0.0)\n",
            "Requirement already satisfied: certifi>=2017.4.17 in /usr/local/lib/python3.8/dist-packages (from requests->pyTelegramBotAPI) (2022.12.7)\n",
            "Building wheels for collected packages: pyTelegramBotAPI\n",
            "  Building wheel for pyTelegramBotAPI (setup.py) ... \u001b[?25l\u001b[?25hdone\n",
            "  Created wheel for pyTelegramBotAPI: filename=pyTelegramBotAPI-4.9.0-py3-none-any.whl size=203107 sha256=9c19f0070293fe55f793160e1ea871f3f510f00f3df7e170221046eb21ca0103\n",
            "  Stored in directory: /root/.cache/pip/wheels/95/a7/fd/f667b71e29e3f64f239f30195efc39de642e72f8a47a6fcd8d\n",
            "Successfully built pyTelegramBotAPI\n",
            "Installing collected packages: pyTelegramBotAPI\n",
            "Successfully installed pyTelegramBotAPI-4.9.0\n"
          ]
        }
      ],
      "source": [
        "!pip install pyTelegramBotAPI"
      ]
    },
    {
      "cell_type": "code",
      "source": [
        "import telebot"
      ],
      "metadata": {
        "id": "kxEoQ-_4ugIl"
      },
      "execution_count": 248,
      "outputs": []
    },
    {
      "cell_type": "code",
      "source": [
        "import pandas as pd\n",
        "import random\n",
        "import re"
      ],
      "metadata": {
        "id": "OnnKZSPXABlG"
      },
      "execution_count": 249,
      "outputs": []
    },
    {
      "cell_type": "code",
      "source": [
        "bot = telebot.TeleBot(\"5620973682:AAFtNyEVl9GcyivIONmKa9gVQbLz_82bT58\")"
      ],
      "metadata": {
        "id": "1jEcoFmyo1cy"
      },
      "execution_count": 250,
      "outputs": []
    },
    {
      "cell_type": "code",
      "source": [
        "token = \"5620973682:AAFtNyEVl9GcyivIONmKa9gVQbLz_82bT58\""
      ],
      "metadata": {
        "id": "ga8Qb7BkBJ74"
      },
      "execution_count": 251,
      "outputs": []
    },
    {
      "cell_type": "code",
      "source": [
        "costo_estandar_por_envio = float(2.75)"
      ],
      "metadata": {
        "id": "uW-WY5V5GFgw"
      },
      "execution_count": 252,
      "outputs": []
    },
    {
      "cell_type": "code",
      "source": [
        "from telebot.types import InlineKeyboardButton\n",
        "from telebot.types import InlineKeyboardMarkup\n",
        "from telebot.types import ForceReply\n",
        "from telebot.types import ReplyKeyboardMarkup\n",
        "from datetime import datetime\n",
        "BOT_TOKEN = token\n",
        "bot = telebot.TeleBot(BOT_TOKEN)\n",
        "usuarios={}\n",
        "markup4=InlineKeyboardMarkup(row_width=1)\n",
        "b3=InlineKeyboardButton(\"VOLVER AL MENU PRINCIPAL\",callback_data=\"salir\")\n",
        "markup4.add(b3)\n",
        "\n",
        "letras=['a', 'b', 'c', 'd', 'e', 'f', 'g', 'h', 'i', 'j', 'k', 'l', 'm', 'n', 'o', 'p', 'q', 'r', 's', 't', 'u', 'v', 'w', 'x', 'y', 'z']\n",
        "numeros=[\"1\",\"2\",\"3\",\"4\",\"5\",\"6\",\"7\",\"8\",\"9\",\"0\"]"
      ],
      "metadata": {
        "id": "L2_aSVlZ_Rwd"
      },
      "execution_count": 253,
      "outputs": []
    },
    {
      "cell_type": "code",
      "source": [
        "from telebot.types import InlineKeyboardButton\n",
        "from telebot.types import InlineKeyboardMarkup\n",
        "from telebot.types import ForceReply\n",
        "from telebot.types import ReplyKeyboardMarkup"
      ],
      "metadata": {
        "id": "9A-76xYxI42G"
      },
      "execution_count": 254,
      "outputs": []
    },
    {
      "cell_type": "code",
      "source": [
        "@bot.message_handler(commands=['start'])\n",
        "def start(message):\n",
        "    bot.send_message(message.chat.id, \"Bienvenido al chatbot. Por favor, selecciona una opción del menú:\")\n",
        "    bot.send_message(message.chat.id, \"1. Gestor de citas\")\n",
        "    bot.send_message(message.chat.id, \"2. Envío de paquetes\")\n",
        "    bot.send_message(message.chat.id, \"3. Cotización de presupuestos\")\n",
        "    bot.send_message(message.chat.id, \"4. Contactar con agente\")\n",
        "    bot.send_message(message.chat.id, \"5. Salir\")\n"
      ],
      "metadata": {
        "id": "h3uP4pl80LVd"
      },
      "execution_count": 255,
      "outputs": []
    },
    {
      "cell_type": "code",
      "source": [
        "@bot.message_handler(content_types=['text'])\n",
        "def main_menu(message):\n",
        "    if message.text == \"1\":\n",
        "         bot.send_message(message.chat.id, \"Bienvenido al gestor de citas\")\n",
        "         cmd_citas(message)\n",
        "    elif message.text == \"2\":\n",
        "        bot.send_message(message.chat.id, \"Has seleccionado la opción 1. Por favor, selecciona una opción del submenú:\")\n",
        "        bot.send_message(message.chat.id, \"1) Estado de paquete\")\n",
        "        bot.send_message(message.chat.id, \"2) trascurso de paquete\")\n",
        "        bot.send_message(message.chat.id, \"3) Nomdre de trasportista\")\n",
        "        bot.send_message(message.chat.id, \"2) Salir al menu principal\")\n",
        "        bot.register_next_step_handler(message, envios_submenu)\n",
        "    elif message.text == \"3\":\n",
        "        bot.send_message(message.chat.id, \"Cotización de presupuestos. ¿Qué desea consultar?\")\n",
        "        bot.send_message(message.chat.id, \"1) ¿Cuál es el costo por envío?       3) ¿Qué métodos de pago tenemos?\")\n",
        "        bot.send_message(message.chat.id, \"2) ¿Cuál es el costo por dimensiones de paquete de envío?        4) Volver al menú principal.\")\n",
        "        cot_menu(message)\n",
        "    elif message.text == \"4\":\n",
        "        contact_agent()\n",
        "    elif message.text == \"5\":\n",
        "        bot.send_message(message.chat.id, \"Hasta luego vuelva pronto\")\n",
        "    else:\n",
        "        bot.send_message(message.chat.id, \"Por favor, selecciona una opción válida del menú.\")\n"
      ],
      "metadata": {
        "id": "n2mSxSM60MS5"
      },
      "execution_count": 256,
      "outputs": []
    },
    {
      "cell_type": "code",
      "source": [
        "from sre_constants import NOT_LITERAL\n",
        "@bot.message_handler(commands=[\"citas\"])\n",
        "def cmd_citas(message):\n",
        "  bot.send_message(message.chat.id, \"<b>AGENDADOR DE CITAS</b>\"+\"\\n\"+ \"Favor de determinar el motivo de su cita\")\n",
        "  markup=InlineKeyboardMarkup(row_width=2)\n",
        "  b1= InlineKeyboardButton(\"Citas para retiro\",callback_data=\"retiro\")\n",
        "  b2= InlineKeyboardButton(\"Citas para envio\",callback_data=\"envio\")\n",
        "  markup.add(b1,b2)\n",
        "  bot.send_message(message.chat.id,\"Tipos de Citas\",reply_markup=markup)\n",
        "\n",
        "@bot.callback_query_handler(func=lambda x:True)  \n",
        "def feedback_button_inline(call):\n",
        "  cid=call.from_user.id\n",
        "  mid=call.message.id\n",
        "  if call.data ==\"retiro\":\n",
        "    bot.send_message(cid, \"Ejecuta el siguiente comando /retiro\")\n",
        "    \n",
        "  if call.data ==\"envio\":\n",
        "    bot.send_message(cid, \"Ejecuta el siguiente comando /envio\")\n",
        "\n",
        "@bot.message_handler(commands=[\"retiro\"])\n",
        "def cmd_retiro(message):\n",
        "  markup=ForceReply()\n",
        "  msg=bot.send_message(message.chat.id,\"Digite su nombre completo\",reply_markup=markup)\n",
        "\n",
        "  bot.register_next_step_handler(msg,preguntar_num)\n",
        "\n",
        "def preguntar_num(message):\n",
        "  if message.text.isdigit():\n",
        "    msg=bot.send_message(message.chat.id,\"ESCRIBA UN NOMBRE VALIDO\")\n",
        "    bot.register_next_step_handler(msg,preguntar_num)\n",
        "  else:\n",
        "    usuarios[message.chat.id]={}\n",
        "    usuarios[message.chat.id][\"nombre\"]=message.text\n",
        "    markup=ForceReply()\n",
        "    msg=bot.send_message(message.chat.id,\"Digite su numero de afiliado\",reply_markup=markup)\n",
        "    bot.register_next_step_handler(msg,fechas_disponible)\n",
        "\n",
        "def fechas_disponible(message):\n",
        "  if message.text.isdigit():\n",
        "    usuarios[message.chat.id][\"num_afiliado\"]=message.text\n",
        "    markup2=ReplyKeyboardMarkup(\n",
        "        one_time_keyboard=True,\n",
        "        input_field_placeholder=\"Pulsar un boton\",\n",
        "        resize_keyboard=True\n",
        "    )\n",
        "    markup2.add(\"SI\",\"NO\")\n",
        "    msg=bot.send_message(message.chat.id,\"Desea generar una fecha disponible para retirar su paquete\",reply_markup=markup2)\n",
        "    bot.register_next_step_handler(msg,registro_retiro)\n",
        "  else:\n",
        "    msg=bot.send_message(message.chat.id,\"NUMERO DE AFILIADO DESCONOCIDO \\n Por Favor introducir uno valido\")\n",
        "    bot.register_next_step_handler(msg,fechas_disponible)\n",
        "def registro_retiro(message):\n",
        "    if message.text!=\"SI\" and message.text!=\"NO\":\n",
        "       msg=bot.send_message(message.chat.id,\"PRESIONE UN BOTÓN\")\n",
        "       bot.register_next_step_handler(msg,registro_envio)\n",
        "    if message.text==\"SI\":\n",
        "       \n",
        "       inicio = datetime(2022, 1, 24)\n",
        "       final =  datetime(2022, 5, 24)\n",
        "       random_date = inicio + (final - inicio) * random.random()\n",
        "       usuarios[message.chat.id][\"fecha\"]=random_date\n",
        "       bot.send_message(message.chat.id,\"<b>Su cita para retiro de mercancia a sido agendado</b>\",parse_mode=\"HTML\")  \n",
        "       bot.send_message(message.chat.id,f\"Fecha programada: {random_date}\",reply_markup=markup4)   \n",
        "                \n",
        "    if message.text==\"NO\":\n",
        "       bot.send_message(message.chat.id,\"<b>Su cita para retiro de mercancia a sido cancelado</b>\",parse_mode=\"HTML\") \n",
        "usuarios=pd.DataFrame(usuarios) \n",
        "\n",
        "@bot.message_handler(commands=[\"envio\"])\n",
        "def cmd_envio(message):\n",
        "  markup=ForceReply()\n",
        "  msg=bot.send_message(message.chat.id,\"Digite su nombre completo\")\n",
        "\n",
        "  bot.register_next_step_handler(msg,preguntar_num2)\n",
        "\n",
        "def preguntar_num2(message):\n",
        "  if message.text.isdigit():\n",
        "    msg=bot.send_message(message.chat.id,\"ESCRIBA UN NOMBRE VALIDO\")\n",
        "    bot.register_next_step_handler(msg,preguntar_num2)\n",
        "  else:\n",
        "    usuarios[message.chat.id]={}\n",
        "    usuarios[message.chat.id][\"nombre\"]=message.text\n",
        "    markup=ForceReply()\n",
        "    msg=bot.send_message(message.chat.id,\"Digite su numero de afiliado\",reply_markup=markup)\n",
        "    bot.register_next_step_handler(msg,fechas_disponible2)\n",
        "\n",
        "def fechas_disponible2(message):\n",
        "  if message.text.isdigit():\n",
        "    usuarios[message.chat.id][\"num_afiliado\"]=message.text\n",
        "    markup2=ReplyKeyboardMarkup(\n",
        "        one_time_keyboard=True,\n",
        "        input_field_placeholder=\"Pulsar un boton\",\n",
        "        resize_keyboard=True\n",
        "    )\n",
        "    markup2.add(\"SI\",\"NO\")\n",
        "    msg=bot.send_message(message.chat.id,\"Desea generar una fecha disponible para enviar su paquete\",reply_markup=markup2)\n",
        "    bot.register_next_step_handler(msg,registro_envio)\n",
        "  else:\n",
        "    msg=bot.send_message(message.chat.id,\"NUMERO DE AFILIADO DESCONOCIDO \\n Por Favor introducir uno valido\")\n",
        "    bot.register_next_step_handler(msg,fechas_disponible2)\n",
        "def registro_envio(message):\n",
        "    if message.text!=\"SI\" and message.text!=\"NO\":\n",
        "       msg=bot.send_message(message.chat.id,\"PRESIONE UN BOTÓN\")\n",
        "       bot.register_next_step_handler(msg,registro_envio)\n",
        "    if message.text==\"SI\":\n",
        "       \n",
        "       inicio = datetime(2022, 1, 24)\n",
        "       final =  datetime(2023, 1, 24)\n",
        "       random_date = inicio + (final - inicio) * random.random()\n",
        "       usuarios[message.chat.id][\"fecha\"]=random_date\n",
        "       bot.send_message(message.chat.id,\"<b>Su cita para envio de mercancia a sido agendado</b>\",parse_mode=\"HTML\")  \n",
        "       bot.send_message(message.chat.id,f\"Fecha programada: {random_date}\",reply_markup=markup4)   \n",
        "                \n",
        "    if message.text==\"NO\":\n",
        "       bot.send_message(message.chat.id,\"<b>Su cita para envio de mercancia a sido cancelado</b>\",parse_mode=\"HTML\") \n",
        "usuarios=pd.DataFrame(usuarios)   \n",
        "@bot.message_handler(content_types=[\"text\"])\n",
        "def bot_mensaje_texto(message):\n",
        "  if message.text.startswith(\"/\"):\n",
        "    bot.send_message(message.chat.id, \"Comando no disponible\")\n",
        "  else:\n",
        "    bot.send_message(message.chat.id, \"Introduce un comando \")\n",
        "\n",
        "\n"
      ],
      "metadata": {
        "id": "O1hutvI__k5r"
      },
      "execution_count": 257,
      "outputs": []
    },
    {
      "cell_type": "code",
      "source": [
        "def cot_menu(message):\n",
        "    if message.text == \"1\":\n",
        "        bot.send_message(message.chat.id,  \"El costo por envío es de $ \"+costo_estandar_por_envio)\n",
        "    elif message.text == \"2\":\n",
        "        bot.send_message(message.chat.id, \"El costo por dimensiones de paquete de envío es de $ \")\n",
        "    elif message.text == \"3\":\n",
        "        bot.send_message(message.chat.id, \"Los métodos de pago disponibles son tarjeta de crédito, transferencia bancaria y PayPal.\")\n",
        "    elif message.text == \"4\":\n",
        "        bot.send_message(message.chat.id, \"Volviendo\")\n",
        "        start(message)\n",
        "    else:\n",
        "        bot.reply_to(message, \"Opción no válida. Vuelva a intentarlo.\")\n"
      ],
      "metadata": {
        "id": "Atu5Cr_YJPOD"
      },
      "execution_count": 258,
      "outputs": []
    },
    {
      "cell_type": "code",
      "source": [
        "def envios_submenu(message):\n",
        "    bot.send_message(message.chat.id, \"Saliendo al menu principal\")\n",
        "    if message.text == \"1\":\n",
        "        bot.send_message(message.chat.id, \"Paquete en buen estado.\")\n",
        "    elif message.text == \"2\":\n",
        "        bot.send_message(message.chat.id, \"Embarque\")\n",
        "    elif message.text == \"3\":\n",
        "        bot.send_message(message.chat.id, \"Jorde Mendoza.\")\n",
        "    else:\n",
        "        bot.send_message(message.chat.id, \"Opción no válida, vuelve a intentarlo\")"
      ],
      "metadata": {
        "id": "GfErREMn2WAP"
      },
      "execution_count": 259,
      "outputs": []
    },
    {
      "cell_type": "code",
      "source": [
        "@bot.message_handler(func=lambda message: message.text == 'Contactar Agente')\n",
        "def contact_agent(message):\n",
        "    bot.send_message(message.chat.id, \"Envia tu nombre, email y  consulta.\")\n"
      ],
      "metadata": {
        "id": "EE_BOlXee2_y"
      },
      "execution_count": null,
      "outputs": []
    },
    {
      "cell_type": "code",
      "source": [
        "    bot.register_next_step_handler(message, handle_contact_agent_info)\n"
      ],
      "metadata": {
        "id": "Pz5-czsPe_II"
      },
      "execution_count": null,
      "outputs": []
    },
    {
      "cell_type": "code",
      "source": [
        "def handle_contact_agent_info(message):\n",
        "    name, email, inquiry = message.text.split(',')\n",
        "    # Enviar información al agente \n",
        "    bot.send_message(message.chat.id, f\"Gracia {name}. Nuetro agente te contactará pronto.\")\n"
      ],
      "metadata": {
        "id": "CGL62uaFfBnO"
      },
      "execution_count": null,
      "outputs": []
    },
    {
      "cell_type": "code",
      "source": [],
      "metadata": {
        "id": "1RmqM5dke30B"
      },
      "execution_count": null,
      "outputs": []
    },
    {
      "cell_type": "code",
      "source": [
        "bot.infinity_polling()"
      ],
      "metadata": {
        "id": "tW4HCPGx0Seq"
      },
      "execution_count": null,
      "outputs": []
    }
  ]
}