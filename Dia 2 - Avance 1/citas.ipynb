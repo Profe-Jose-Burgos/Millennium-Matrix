{
  "nbformat": 4,
  "nbformat_minor": 0,
  "metadata": {
    "colab": {
      "provenance": []
    },
    "kernelspec": {
      "name": "python3",
      "display_name": "Python 3"
    },
    "language_info": {
      "name": "python"
    }
  },
  "cells": [
    {
      "cell_type": "code",
      "execution_count": null,
      "metadata": {
        "colab": {
          "base_uri": "https://localhost:8080/"
        },
        "id": "LuUrII6m73AJ",
        "outputId": "ab54cc6f-fedf-45a6-a7bb-e7f8e36b85b6"
      },
      "outputs": [
        {
          "output_type": "stream",
          "name": "stdout",
          "text": [
            "Looking in indexes: https://pypi.org/simple, https://us-python.pkg.dev/colab-wheels/public/simple/\n",
            "Requirement already satisfied: pyTelegramBotAPI in /usr/local/lib/python3.8/dist-packages (4.9.0)\n",
            "Requirement already satisfied: requests in /usr/local/lib/python3.8/dist-packages (from pyTelegramBotAPI) (2.25.1)\n",
            "Requirement already satisfied: urllib3<1.27,>=1.21.1 in /usr/local/lib/python3.8/dist-packages (from requests->pyTelegramBotAPI) (1.24.3)\n",
            "Requirement already satisfied: idna<3,>=2.5 in /usr/local/lib/python3.8/dist-packages (from requests->pyTelegramBotAPI) (2.10)\n",
            "Requirement already satisfied: certifi>=2017.4.17 in /usr/local/lib/python3.8/dist-packages (from requests->pyTelegramBotAPI) (2022.12.7)\n",
            "Requirement already satisfied: chardet<5,>=3.0.2 in /usr/local/lib/python3.8/dist-packages (from requests->pyTelegramBotAPI) (4.0.0)\n"
          ]
        }
      ],
      "source": [
        "!pip install pyTelegramBotAPI"
      ]
    },
    {
      "cell_type": "code",
      "source": [
        "token = \"5620973682:AAFtNyEVl9GcyivIONmKa9gVQbLz_82bT58\""
      ],
      "metadata": {
        "id": "PLDYyMuq7-lA"
      },
      "execution_count": null,
      "outputs": []
    },
    {
      "cell_type": "code",
      "source": [
        "import telebot\n",
        "from telebot.types import InlineKeyboardButton\n",
        "from telebot.types import InlineKeyboardMarkup\n",
        "from telebot.types import ForceReply\n",
        "from telebot.types import ReplyKeyboardMarkup\n",
        "BOT_TOKEN = token\n",
        "bot = telebot.TeleBot(BOT_TOKEN)\n",
        "usuarios={}"
      ],
      "metadata": {
        "id": "edWyjrPNHb1a"
      },
      "execution_count": null,
      "outputs": []
    },
    {
      "cell_type": "code",
      "source": [
        "@bot.message_handler(commands=[\"citas\"])\n",
        "def cmd_citas(message):\n",
        "  foto=open(\"1.png\",\"rb\")\n",
        "  bot.send_photo(message.chat.id,foto,caption=\"<b>AGENDADOR DE CITAS</b>\"+\"\\n\"+ \"Favor de determinar el motivo de su cita\",parse_mode=\"HTML\")\n",
        "  markup=InlineKeyboardMarkup(row_width=2)\n",
        "  b1= InlineKeyboardButton(\"Citas para retiro\",callback_data=\"retiro\")\n",
        "  b2= InlineKeyboardButton(\"Citas para envio\",callback_data=\"envio\")\n",
        "  markup.add(b1,b2)\n",
        "  bot.send_message(message.chat.id,\"Tipos de Citas\",reply_markup=markup)\n",
        "\n",
        "@bot.callback_query_handler(func=lambda x:True)  \n",
        "def feedback_button_inline(call):\n",
        "  cid=call.from_user.id\n",
        "  mid=call.message.id\n",
        "  if call.data ==\"retiro\":\n",
        "    bot.send_message(cid, \"Ejecuta el siguiente comando /retiro\")\n",
        "  if call.data ==\"envio\":\n",
        "    bot.send_message(cid, \"Ejecuta el siguiente comando /envio\")\n",
        "\n",
        "@bot.message_handler(commands=[\"retiro\"])\n",
        "def cmd_retiro(message):\n",
        "  markup=ForceReply()\n",
        "  msg=bot.send_message(message.chat.id,\"Digite su nombre completo\",reply_markup=markup)\n",
        "  bot.register_next_step_handler(msg,preguntar_cedula)\n",
        "\n",
        "def preguntar_cedula(message):\n",
        "  markup=ForceReply()\n",
        "  msg=bot.send_message(message.chat.id,\"Digite su cedula utilizando guiones\\n EJEMPLO=X-XXX-XXXX\",reply_markup=markup)\n",
        "  bot.register_next_step_handler(msg,fechas_disponible)\n",
        "\n",
        "def fechas_disponible(message):\n",
        "  markup=ForceReply()\n",
        "  msg=bot.send_message(message.chat.id,\"Ingrese la fecha para retiro de mercancia utilizando el siguiente formato DD/MM/AAAA\",reply_markup=markup)\n",
        "\n",
        "@bot.message_handler(commands=[\"envio\"])\n",
        "def cmd_retiro(message):\n",
        "  markup=ForceReply()\n",
        "  msg=bot.send_message(message.chat.id,\"Digite su nombre completo\",reply_markup=markup)\n",
        "  bot.register_next_step_handler(msg,preguntar_cedula)\n",
        "\n",
        "def preguntar_cedula(message):\n",
        "  markup=ForceReply()\n",
        "  msg=bot.send_message(message.chat.id,\"Digite su cedula utilizando guiones\\n EJEMPLO=X-XXX-XXXX\",reply_markup=markup)\n",
        "  bot.register_next_step_handler(msg,fechas_disponible)\n",
        "\n",
        "def fechas_disponible(message):\n",
        "  markup=ForceReply()\n",
        "  msg=bot.send_message(message.chat.id,\"Ingrese la fecha para retiro de mercancia utilizando el siguiente formato DD/MM/AAAA\",reply_markup=markup)           \n",
        "\n",
        "@bot.message_handler(content_types=[\"text\"])\n",
        "def bot_mensaje_texto(message):\n",
        "  if message.text.startswith(\"/\"):\n",
        "    bot.send_message(message.chat.id, \"Comando no disponible\")\n",
        "  else:\n",
        "    bot.send_message(message.chat.id, \"Hola\")"
      ],
      "metadata": {
        "id": "VcOm0Xw38mYK"
      },
      "execution_count": null,
      "outputs": []
    },
    {
      "cell_type": "code",
      "source": [
        "if __name__=='__main__':\n",
        "  bot.infinity_polling()"
      ],
      "metadata": {
        "id": "MrRyOm_29khM",
        "colab": {
          "base_uri": "https://localhost:8080/"
        },
        "outputId": "0aef9590-137b-49db-fd22-dd7768420682"
      },
      "execution_count": null,
      "outputs": [
        {
          "output_type": "stream",
          "name": "stderr",
          "text": [
            "2023-01-24 16:57:35,321 (__init__.py:966 MainThread) ERROR - TeleBot: \"Infinity polling: polling exited\"\n",
            "ERROR:TeleBot:Infinity polling: polling exited\n",
            "2023-01-24 16:57:35,324 (__init__.py:968 MainThread) ERROR - TeleBot: \"Break infinity polling\"\n",
            "ERROR:TeleBot:Break infinity polling\n"
          ]
        }
      ]
    }
  ]
}