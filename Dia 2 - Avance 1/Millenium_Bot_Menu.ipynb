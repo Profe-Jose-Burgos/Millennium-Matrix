{
  "cells": [
    {
      "cell_type": "code",
      "execution_count": null,
      "metadata": {
        "colab": {
          "base_uri": "https://localhost:8080/"
        },
        "id": "urWBj5DY_jxx",
        "outputId": "dd3f30d7-1d1e-43dc-d04c-def3e362cd76"
      },
      "outputs": [
        {
          "name": "stdout",
          "output_type": "stream",
          "text": [
            "Looking in indexes: https://pypi.org/simple, https://us-python.pkg.dev/colab-wheels/public/simple/\n",
            "Collecting pyTelegramBotAPI\n",
            "  Downloading pyTelegramBotAPI-4.9.0.tar.gz (219 kB)\n",
            "\u001b[2K     \u001b[90m━━━━━━━━━━━━━━━━━━━━━━━━━━━━━━━━━━━━━━━\u001b[0m \u001b[32m219.9/219.9 KB\u001b[0m \u001b[31m4.2 MB/s\u001b[0m eta \u001b[36m0:00:00\u001b[0m\n",
            "\u001b[?25h  Preparing metadata (setup.py) ... \u001b[?25l\u001b[?25hdone\n",
            "Requirement already satisfied: requests in /usr/local/lib/python3.8/dist-packages (from pyTelegramBotAPI) (2.25.1)\n",
            "Requirement already satisfied: certifi>=2017.4.17 in /usr/local/lib/python3.8/dist-packages (from requests->pyTelegramBotAPI) (2022.12.7)\n",
            "Requirement already satisfied: chardet<5,>=3.0.2 in /usr/local/lib/python3.8/dist-packages (from requests->pyTelegramBotAPI) (4.0.0)\n",
            "Requirement already satisfied: urllib3<1.27,>=1.21.1 in /usr/local/lib/python3.8/dist-packages (from requests->pyTelegramBotAPI) (1.24.3)\n",
            "Requirement already satisfied: idna<3,>=2.5 in /usr/local/lib/python3.8/dist-packages (from requests->pyTelegramBotAPI) (2.10)\n",
            "Building wheels for collected packages: pyTelegramBotAPI\n",
            "  Building wheel for pyTelegramBotAPI (setup.py) ... \u001b[?25l\u001b[?25hdone\n",
            "  Created wheel for pyTelegramBotAPI: filename=pyTelegramBotAPI-4.9.0-py3-none-any.whl size=203107 sha256=b801aa6fc7953702fa9829d69aac921460e5ece23277b8a87f4805cf8b1e0caf\n",
            "  Stored in directory: /root/.cache/pip/wheels/95/a7/fd/f667b71e29e3f64f239f30195efc39de642e72f8a47a6fcd8d\n",
            "Successfully built pyTelegramBotAPI\n",
            "Installing collected packages: pyTelegramBotAPI\n",
            "Successfully installed pyTelegramBotAPI-4.9.0\n"
          ]
        }
      ],
      "source": [
        "!pip install pyTelegramBotAPI"
      ]
    },
    {
      "cell_type": "code",
      "execution_count": null,
      "metadata": {
        "id": "IOElNox7CQf2"
      },
      "outputs": [],
      "source": [
        "import telebot"
      ]
    },
    {
      "cell_type": "code",
      "execution_count": null,
      "metadata": {
        "id": "P1cB8QE2CXYq"
      },
      "outputs": [],
      "source": [
        "token = \"5620973682:AAFtNyEVl9GcyivIONmKa9gVQbLz_82bT58\""
      ]
    },
    {
      "cell_type": "code",
      "execution_count": null,
      "metadata": {
        "id": "dnaral5UL7vl"
      },
      "outputs": [],
      "source": [
        "menu = \"\"\"\n",
        "\n",
        "      [A] Gestor de Citas\n",
        "      [B] Envio de Paquetes\n",
        "      [C] Cotizacion de Presupuestos\n",
        "      [D] Conectar con Agente\n",
        "      [E] Salir\n",
        "\n",
        "\n",
        "\"\"\" \n"
      ]
    },
    {
      "cell_type": "code",
      "execution_count": null,
      "metadata": {
        "id": "2RErdl26oW5g"
      },
      "outputs": [],
      "source": [
        "import re\n",
        "import random\n",
        "\n",
        "def get_response(txt):\n",
        "    split_message = re.split(r'\\s|[,:;.?!-_]\\s*f',txt.lower())\n",
        "    response = check_all_message(split_message)\n",
        "    return response\n",
        "\n",
        "def message_probability(user_msn, recognized_word, single_response=False,required_word = []):\n",
        "    message_certainly = 0\n",
        "    has_required_word = True\n",
        "    print(f'user msn {user_msn}')\n",
        "    for word in user_msn:\n",
        "        if word in recognized_word:\n",
        "            message_certainly+=1\n",
        "    percentage = float(message_certainly)/float(len(recognized_word))\n",
        "    for word in required_word:\n",
        "        if word not in user_msn:\n",
        "            has_required_word = False\n",
        "            break\n",
        "    if has_required_word or single_response:\n",
        "        return float(percentage * 100)\n",
        "    else:\n",
        "        return 0\n",
        "\n",
        "\n",
        "def check_all_message(txt):\n",
        "    \n",
        "    highest_prob = {}    \n",
        "    \n",
        "    def response(bot_response,list_of_words,single_response = False,required_words = []):\n",
        "        nonlocal highest_prob\n",
        "        highest_prob[bot_response]= message_probability(txt,list_of_words,single_response,required_words)\n",
        "    \n",
        "   \n",
        "    \n",
        "    response(\"Usted\" \"escogio\" \"la\" \"opcion\"\":\" \"Gestor\" \"de\" \"Citas\",[\"A\"], required_words=['A'])\n",
        "    response(\"Usted\" \"escogio\" \"la\" \"opcion\"\":\" \"Envio\" \"de\" \"Paquetes\",[\"B\"], required_words=['B'])\n",
        "    response(\"Usted\" \"escogio\" \"la\" \"opcion\"\":\" \"Cotizacion\" \"de\" \"presupuestos\",[\"C\"], required_words=['C'])\n",
        "    response(\"En\" \"unos\" \"momentos\" \"se\" \"contactara\" \"con\" \"un\" \"agente\"\".\" \"por\" \"favor\" \"espere\",[\"D\"], required_words=['D'])\n",
        "    response(\"Muchas\" \"gracias\" \"por\" \"utilizar\" \"nuestos\" \"servicios\",[\"E\"], required_words=['E'])\n",
        "\n",
        "\n",
        "    best_match = max(highest_prob,key=highest_prob.get)\n",
        "    print(highest_prob)\n",
        "    \n",
        "    return unknown() if highest_prob[best_match] < 1 else best_match\n",
        "\n",
        "\n",
        "def unknown():\n",
        "    response = [\"Por favor elija una de las opciones presentes\"]\n",
        "    return response[random.randrange(2)]"
      ]
    },
    {
      "cell_type": "code",
      "execution_count": null,
      "metadata": {
        "id": "-nrEhXprnvMV"
      },
      "outputs": [],
      "source": [
        "v_response = menu\n"
      ]
    },
    {
      "cell_type": "code",
      "execution_count": null,
      "metadata": {
        "id": "Zlg5O6yyCgNv"
      },
      "outputs": [],
      "source": [
        "bot = telebot.TeleBot(token)"
      ]
    },
    {
      "cell_type": "code",
      "execution_count": null,
      "metadata": {
        "id": "wOifqk2vToUY"
      },
      "outputs": [],
      "source": [
        "@bot.message_handler(commands=['start',\"help\"])\n",
        "def send_welcome(message):\n",
        "\tbot.reply_to(message, v_response)"
      ]
    },
    {
      "cell_type": "code",
      "execution_count": null,
      "metadata": {
        "id": "4Lpv94MocFqb"
      },
      "outputs": [],
      "source": [
        "@bot.message_handler(func=lambda m: True)\n",
        "def echo_all(message):\n",
        "  response = get_response(message.text)\n",
        "  bot.reply_to(message, response)\n",
        "  print(f'Mensaje para usuario BOT : {response}')\n",
        "  print(f'mensaje de Usuario: {message.text}')"
      ]
    },
    {
      "cell_type": "code",
      "execution_count": null,
      "metadata": {
        "colab": {
          "background_save": true
        },
        "id": "GxArV63Tjp0-"
      },
      "outputs": [],
      "source": [
        "bot.infinity_polling()\n"
      ]
    },
    {
      "cell_type": "code",
      "execution_count": null,
      "metadata": {
        "id": "vNYaz8zaZLI6"
      },
      "outputs": [],
      "source": []
    }
  ],
  "metadata": {
    "colab": {
      "provenance": []
    },
    "kernelspec": {
      "display_name": "Python 3",
      "name": "python3"
    },
    "language_info": {
      "name": "python"
    }
  },
  "nbformat": 4,
  "nbformat_minor": 0
}