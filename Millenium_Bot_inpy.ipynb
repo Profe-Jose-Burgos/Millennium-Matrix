{
  "nbformat": 4,
  "nbformat_minor": 0,
  "metadata": {
    "colab": {
      "provenance": []
    },
    "kernelspec": {
      "name": "python3",
      "display_name": "Python 3"
    },
    "language_info": {
      "name": "python"
    }
  },
  "cells": [
    {
      "cell_type": "code",
      "execution_count": null,
      "metadata": {
        "id": "urWBj5DY_jxx",
        "colab": {
          "base_uri": "https://localhost:8080/"
        },
        "outputId": "fdd566c7-bad9-4010-de95-4ca3520de46a"
      },
      "outputs": [
        {
          "output_type": "stream",
          "name": "stdout",
          "text": [
            "Looking in indexes: https://pypi.org/simple, https://us-python.pkg.dev/colab-wheels/public/simple/\n",
            "Collecting pyTelegramBotAPI\n",
            "  Downloading pyTelegramBotAPI-4.9.0.tar.gz (219 kB)\n",
            "\u001b[2K     \u001b[90m━━━━━━━━━━━━━━━━━━━━━━━━━━━━━━━━━━━━━━━\u001b[0m \u001b[32m219.9/219.9 KB\u001b[0m \u001b[31m4.9 MB/s\u001b[0m eta \u001b[36m0:00:00\u001b[0m\n",
            "\u001b[?25h  Preparing metadata (setup.py) ... \u001b[?25l\u001b[?25hdone\n",
            "Requirement already satisfied: requests in /usr/local/lib/python3.8/dist-packages (from pyTelegramBotAPI) (2.25.1)\n",
            "Requirement already satisfied: certifi>=2017.4.17 in /usr/local/lib/python3.8/dist-packages (from requests->pyTelegramBotAPI) (2022.12.7)\n",
            "Requirement already satisfied: idna<3,>=2.5 in /usr/local/lib/python3.8/dist-packages (from requests->pyTelegramBotAPI) (2.10)\n",
            "Requirement already satisfied: urllib3<1.27,>=1.21.1 in /usr/local/lib/python3.8/dist-packages (from requests->pyTelegramBotAPI) (1.24.3)\n",
            "Requirement already satisfied: chardet<5,>=3.0.2 in /usr/local/lib/python3.8/dist-packages (from requests->pyTelegramBotAPI) (4.0.0)\n",
            "Building wheels for collected packages: pyTelegramBotAPI\n",
            "  Building wheel for pyTelegramBotAPI (setup.py) ... \u001b[?25l\u001b[?25hdone\n",
            "  Created wheel for pyTelegramBotAPI: filename=pyTelegramBotAPI-4.9.0-py3-none-any.whl size=203107 sha256=b7f89b4e3c371cecc0e2f7a3edb3952756a678580f7f32ef6877a996558481af\n",
            "  Stored in directory: /root/.cache/pip/wheels/95/a7/fd/f667b71e29e3f64f239f30195efc39de642e72f8a47a6fcd8d\n",
            "Successfully built pyTelegramBotAPI\n",
            "Installing collected packages: pyTelegramBotAPI\n",
            "Successfully installed pyTelegramBotAPI-4.9.0\n"
          ]
        }
      ],
      "source": [
        "!pip install pyTelegramBotAPI"
      ]
    },
    {
      "cell_type": "code",
      "source": [
        "import telebot"
      ],
      "metadata": {
        "id": "IOElNox7CQf2"
      },
      "execution_count": null,
      "outputs": []
    },
    {
      "cell_type": "code",
      "source": [
        "token = \"5620973682:AAFtNyEVl9GcyivIONmKa9gVQbLz_82bT58\""
      ],
      "metadata": {
        "id": "P1cB8QE2CXYq"
      },
      "execution_count": null,
      "outputs": []
    },
    {
      "cell_type": "code",
      "source": [
        "import re\n",
        "import random\n",
        "\n",
        "def get_response(txt):\n",
        "    split_message = re.split(r'\\s|[,:;.?!-_]\\s*f',txt.lower())\n",
        "    response = check_all_message(split_message)\n",
        "    return response\n",
        "\n",
        "def message_probability(user_msn, recognized_word, single_response=False,required_word = []):\n",
        "    message_certainly = 0\n",
        "    has_required_word = True\n",
        "    print(f'user msn {user_msn}')\n",
        "    for word in user_msn:\n",
        "        if word in recognized_word:\n",
        "            message_certainly+=1\n",
        "    percentage = float(message_certainly)/float(len(recognized_word))\n",
        "    for word in required_word:\n",
        "        if word not in user_msn:\n",
        "            has_required_word = False\n",
        "            break\n",
        "    if has_required_word or single_response:\n",
        "        return float(percentage * 100)\n",
        "    else:\n",
        "        return 0\n",
        "\n",
        "\n",
        "def check_all_message(txt):\n",
        "    \n",
        "    highest_prob = {}    \n",
        "    \n",
        "    def response(bot_response,list_of_words,single_response = False,required_words = []):\n",
        "        nonlocal highest_prob\n",
        "        highest_prob[bot_response]= message_probability(txt,list_of_words,single_response,required_words)\n",
        "    \n",
        "    \n",
        "    response(\"Usted escogio la opcion: Gestor de Citas\"[\"A\"]), required_words=['A'])\n",
        "    response(\"Usted escogio la opcion: Envio de Paquetes\"[\"B\"], required_words=['B'])\n",
        "    response(\"Usted escogio la opcion: Cotizacion de presupuestos\"[\"C\"], required_words=['C'])\n",
        "    response(\"En unos momentos se contactara con un agente. por favor espere\"[\"D\"], required_words=['D'])\n",
        "    response(\"Muchas gracias por utilizar nuestos servicios\"[\"E\"], required_words=['E'])\n",
        "\n",
        "\n",
        "    best_match = max(highest_prob,key=highest_prob.get)\n",
        "    print(highest_prob)\n",
        "    \n",
        "    return unknown() if highest_prob[best_match] < 1 else best_match\n",
        "\n",
        "\n",
        "def unknown():\n",
        "    response = [\"Por favor elija una de las opciones presentes\"]\n",
        "    return response[random.randrange(2)]"
      ],
      "metadata": {
        "id": "2RErdl26oW5g"
      },
      "execution_count": null,
      "outputs": []
    },
    {
      "cell_type": "code",
      "source": [
        "\n"
      ],
      "metadata": {
        "id": "-nrEhXprnvMV"
      },
      "execution_count": null,
      "outputs": []
    },
    {
      "cell_type": "code",
      "source": [
        "def menu_principal(commands=['start']):\n",
        "\n",
        "      menu = \"\"\"\n",
        "\n",
        "      [A] Gestor de Citas\n",
        "      [B] Envio de Paquetes\n",
        "      [C] Cotizacion de Presupuestos\n",
        "      [D] Conectar con Agente\n",
        "      [E] Salir\n",
        "\n",
        "\n",
        "\"\"\" \n",
        "print(menu)\n",
        "\n",
        "opcion = input('Seleccione entre: A,B,C,D,E: ')\n",
        "print(opcion)\n",
        "\n",
        "if opcion == 'A':\n",
        "    print(\"Usted escogio la opcion: Gestor de Citas\")\n",
        "\n",
        "elif opcion == 'B':\n",
        "     print(\"Usted escogio la opcion: Envio de Paquetes\")\n",
        "\n",
        "elif opcion == 'C':\n",
        "     print(\"Usted escogio la opcion: Cotizacion de presupuestos\")\n",
        "\n",
        "elif opcion == 'D':\n",
        "     print(\"En unos momentos se contactara con un agente. por favor espere\")\n",
        "\n",
        "elif opcion == 'E':\n",
        "      print(\"Muchas gracias por utilizar nuestos servicios\")\n",
        "\n",
        "else: \n",
        "    print(\"Por favor elija una de las opciones presentes\")\n",
        "    print(menu)\n"
      ],
      "metadata": {
        "colab": {
          "base_uri": "https://localhost:8080/"
        },
        "id": "dnaral5UL7vl",
        "outputId": "4ae469ff-871a-4072-e6a0-cf2df7b8c5d0"
      },
      "execution_count": null,
      "outputs": [
        {
          "output_type": "stream",
          "name": "stdout",
          "text": [
            "<function menu at 0x7fe2907c2040>\n",
            "Usted escogio la opcion: Gestor de Citas\n"
          ]
        }
      ]
    },
    {
      "cell_type": "code",
      "source": [
        "@bot.message_handler(commands=['start'])\n",
        "def send_welcome(message):\n",
        "\tbot.reply_to(message, menu_principal)"
      ],
      "metadata": {
        "id": "wOifqk2vToUY"
      },
      "execution_count": null,
      "outputs": []
    },
    {
      "cell_type": "code",
      "source": [
        "bot = telebot.TeleBot(token)"
      ],
      "metadata": {
        "id": "Zlg5O6yyCgNv"
      },
      "execution_count": null,
      "outputs": []
    },
    {
      "cell_type": "code",
      "source": [
        "#JOSUE\n",
        "costo_estandar_por_envio = float(2.75)\n",
        "import pandas as pd\n",
        "inventario = D:\\Cotización de productos\\inventario\n",
        "df = inventario.Dataframe\n",
        "def producto(Paquete):\n",
        "  productos = {\n",
        "    \"1\" : (Producto1),\n",
        "    \"2\" : (Producto2),\n",
        "    \"3\" : (Producto3),\n",
        "    \"4\" : (Producto4),\n",
        "    \"5\" : (Producto5)\n",
        "}"
      ],
      "metadata": {
        "id": "x1YpmLunr1_H"
      },
      "execution_count": null,
      "outputs": []
    },
    {
      "cell_type": "code",
      "source": [
        "# LUIS\n",
        "@bot.message_handler(commands=['citas'])\n",
        "\n",
        "def citas(message):\n",
        "  foto=open(\"1.png\",\"rb\")\n",
        "  bot.send_photo(message.chat.id,foto)\n",
        "  bot.reply_to(message,\"CITAS PARA RETIRO DE PAQUETES\\n\\n\" \"Para agendar una cita con la compañia favor de digitar Una fecha con el siguiente formato DD/MM/AAAA\")\n",
        "\n",
        "  if __name__=='__main__':\n",
        "  bot.infinity_polling()"
      ],
      "metadata": {
        "id": "tBbsMbyPsKfT"
      },
      "execution_count": null,
      "outputs": []
    },
    {
      "cell_type": "code",
      "source": [
        "bot.infinity_polling()\n"
      ],
      "metadata": {
        "colab": {
          "base_uri": "https://localhost:8080/"
        },
        "id": "GxArV63Tjp0-",
        "outputId": "0d34eda3-e102-4561-81b8-707e87a46da9"
      },
      "execution_count": null,
      "outputs": [
        {
          "output_type": "stream",
          "name": "stderr",
          "text": [
            "2023-01-23 21:51:50,162 (__init__.py:966 MainThread) ERROR - TeleBot: \"Infinity polling: polling exited\"\n",
            "ERROR:TeleBot:Infinity polling: polling exited\n",
            "2023-01-23 21:51:50,165 (__init__.py:968 MainThread) ERROR - TeleBot: \"Break infinity polling\"\n",
            "ERROR:TeleBot:Break infinity polling\n"
          ]
        }
      ]
    }
  ]
}